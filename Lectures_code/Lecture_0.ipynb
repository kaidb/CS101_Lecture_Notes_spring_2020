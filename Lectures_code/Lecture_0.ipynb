{
 "cells": [
  {
   "cell_type": "code",
   "execution_count": 1,
   "metadata": {
    "slideshow": {
     "slide_type": "skip"
    }
   },
   "outputs": [],
   "source": [
    "from IPython.display import Image\n",
    "from IPython.core.display import HTML \n",
    "from IPython.display import display_html\n",
    "from IPython.display import display\n",
    "from IPython.display import Math\n",
    "from IPython.display import Latex\n",
    "from IPython.display import HTML"
   ]
  },
  {
   "cell_type": "markdown",
   "metadata": {
    "slideshow": {
     "slide_type": "slide"
    }
   },
   "source": [
    "![](../assets/school_logo.png)\n",
    "# Lecture 0: Welcome to CS-101!\n",
    "- @Author: Kai Bernardini\n",
    "\n",
    "\n"
   ]
  },
  {
   "cell_type": "markdown",
   "metadata": {
    "slideshow": {
     "slide_type": "slide"
    }
   },
   "source": [
    "# Why Computer Science?\n",
    "## Financial motivation: There are many lucrative careers in computer science...\n",
    "- The payscale range of income for a Software Engineer is between $\\$51,521$ and  $\\$118,417$\n",
    "- \"Not only does computer science provide every student foundational knowledge, it also leads to the highest-paying, fastest-growing jobs in the U.S. economy. There are currently over 500,000 open computing jobs, in every sector, from manufacturing to banking, from agriculture to health care, but only 50,000 computer science graduates a year. \" (Computer Science Education Coalition)\n",
    "\n",
    "## Intelectual Motiviation: \n",
    "- There is no shortage of interesting and complex problems to solve.\n",
    "    - I *literally* hack computers for a living (legally, and with permission of course!). \n",
    "- The act of developing code from the ground up helps hone essential problem solving skills. \n",
    "- A degree in computer science grants you the freedom to work in almost any field. EVERYBODY uses data, computing and CS.\n",
    "- Contrary to what you might believe, coding is a creative process. \n",
    "- For those of you who are more artistically inclined, almost all visual mediums, music production and graphic design is done using computer science.\n",
    "    - When I say CS is for everybody, I mean everybody. "
   ]
  },
  {
   "cell_type": "markdown",
   "metadata": {
    "slideshow": {
     "slide_type": "slide"
    }
   },
   "source": [
    "# What is Python and who uses it?\n",
    "- Python is a powerful open source general purpose programing language.\n",
    "- Open source means all of the source code is public.\n",
    "- Python has a massive community built around sharing code and ideas. \n",
    "- It uses simple syntax making it an excellent choice for a first programing language.\n",
    "- Python is leveraged by many companies  to build complex web applications including. \n",
    "    - Disney, Dreamworks, Lucasfilm and many more use python to coordinate massive computer clusters to render blockbuster movies. \n",
    "- Is regarded by many as the swiss army knife of machine learning (statistics/data science) \n",
    "- More examples at https://www.python.org/about/success/\n"
   ]
  },
  {
   "cell_type": "markdown",
   "metadata": {
    "slideshow": {
     "slide_type": "slide"
    }
   },
   "source": [
    "# Philosophy of this Course\n",
    "- Abstract Approach\n",
    "    - Used in mathematics and computer science alike.\n",
    "    - Once you learn python, learning other languages becomes significantly easier.\n",
    "    - Ruby, Scala, perl...etc are all similar to python and make use of the same concepts!\n",
    "- Creativity is Encouraged! \n",
    "    - Many of the problems you encounter in this class have many possible paths to solutions.\n",
    "    - \"If it is worth proving once, it is worth proving it another way\" (Glenn Stephens) "
   ]
  },
  {
   "cell_type": "markdown",
   "metadata": {
    "slideshow": {
     "slide_type": "slide"
    }
   },
   "source": [
    "# What you will learn\n",
    "- Python.\n",
    "    - Fun fact, the name python has nothing to do with the reptile of the same name. Python is an homage to the British comedy troupe Monty Python https://en.wikipedia.org/wiki/Monty_Python. \n",
    "-  Basic $\\LaTeX ~~$ typesetting inside Markdown\n",
    "    - The tool used to typeset mathematical notation. \n",
    "    - EG   $~f(x) = ax^2 + bx + c $\n",
    "- Jupyter Notebook (Either using Colab or your own dev env!)\n",
    "    - The tool used to create this slide show!\n",
    "    - Code cells, and Markdown cells. This is a markdown cell!"
   ]
  },
  {
   "cell_type": "markdown",
   "metadata": {
    "slideshow": {
     "slide_type": "slide"
    }
   },
   "source": [
    "# Course Difficulty\n",
    "- Coding is difficult, and computer science requires you to think about problems in a way that might not come naturally, and that is OK! \n",
    "- You will get stuck on problems, and you will eventually become \"comfortable being uncomfortable\"\n",
    "- Wise words from Jake the Dog\n",
    " ![.](http://www.quickmeme.com/img/fd/fd3d970c53aa6ae1dfdda0c2aa7c344c883bf5455bf924fdb6e3d8b1f4983385.jpg)\n"
   ]
  },
  {
   "cell_type": "markdown",
   "metadata": {
    "slideshow": {
     "slide_type": "slide"
    }
   },
   "source": [
    "# Diving in!\n",
    "- Unless otherwise specified, all of the coding you do in this course will be done using  either google Colab or Repl. \n",
    "    - You are of course allowed (and even encouraged!) to build out your own development environment. However, all submissions for homework need to be submitted in the proper format.\n",
    "    \n",
    "## Getting Started with Google Colab\n",
    "- Sign into your School Google Account and go to https://colab.research.google.com/\n",
    "- Go to \"File\" $\\rightarrow$ \"New Python 3 Notebook\"\n",
    "- You should see something that looks like ![.](../Images/lecture_0/Google_colab_home.png)"
   ]
  },
  {
   "cell_type": "markdown",
   "metadata": {
    "slideshow": {
     "slide_type": "slide"
    }
   },
   "source": [
    "# Writing Your First Program!\n",
    "- Traditionally speaking, getting a computer to  echo \"Hello world!\"  is the first program that everyone learns. \n",
    "- For why this is the case, see https://en.wikipedia.org/wiki/%22Hello,_World!%22_program  \n",
    "- In order to do this, we will make use of the `print()` function\n",
    "- This function will print anything that is wrapped in quotes to the terminal. \n",
    "- For example, `print(\"Welcome to CS 101!\")` Will print the message \"Welcome to CS 101!\"\n",
    "- Try it out yourself now!\n",
    "    - Write a function that prints \"Hello World\" with the code `print(\"Hello, world!\")`\n",
    "    - To run the code, click into the cell and hit \"shift+ enter\"\n",
    "    "
   ]
  },
  {
   "cell_type": "code",
   "execution_count": 8,
   "metadata": {
    "slideshow": {
     "slide_type": "slide"
    }
   },
   "outputs": [
    {
     "name": "stdout",
     "output_type": "stream",
     "text": [
      "HI\n"
     ]
    }
   ],
   "source": [
    "print(\"HI\")"
   ]
  },
  {
   "cell_type": "markdown",
   "metadata": {
    "slideshow": {
     "slide_type": "slide"
    }
   },
   "source": [
    "# Writing your First Program!\n",
    "- If all went well, your screen should look like this: ![.](../Images/lecture_0/hello_world.png)"
   ]
  },
  {
   "cell_type": "markdown",
   "metadata": {
    "slideshow": {
     "slide_type": "slide"
    }
   },
   "source": [
    "# What did we just do?\n",
    "- We just told a computer to display the phrase \"Hello, world!\" to what is called Standard Output.\n",
    "- The $\\texttt{print}$ function is used to send inputs to standard output (IE, what you will see on your terminal screen)\n",
    "- The phrase $\\texttt{Hello, world!}$ is wrapped in double quotes \" \" to tell python that this sequence is what is called a string. You can also use single quotes '' and \"\"\"\"\"\"\n",
    "- For our purposes, a string is the data type used to represent text of any kind. "
   ]
  },
  {
   "cell_type": "code",
   "execution_count": 12,
   "metadata": {
    "slideshow": {
     "slide_type": "slide"
    }
   },
   "outputs": [
    {
     "name": "stdout",
     "output_type": "stream",
     "text": [
      "Hello, world!\n",
      "Hello, world!\n",
      "Hello, world! \n",
      "\n",
      "\n",
      "HI\n"
     ]
    }
   ],
   "source": [
    "# All of these are Valid \n",
    "print('Hello, world!')\n",
    "print(\"Hello, world!\")\n",
    "print(\"\"\"Hello, world! \\n\\n\"\"\")\n",
    "print(\"HI\")"
   ]
  },
  {
   "cell_type": "markdown",
   "metadata": {
    "slideshow": {
     "slide_type": "slide"
    }
   },
   "source": [
    "# Quick Remark on Syntax\n",
    "- Python uses \"white space\" syntax\n",
    "- We will talk more about what this means later, but for now, keep in mind that each line is parsed based using new lines, spaces, tabs...etc\n",
    "- So in order to execute multiple calls to the `print()` function, we need to separate them by new lines\n",
    "- Alternatively, you *could* use a semicolon but this is uncommon"
   ]
  },
  {
   "cell_type": "code",
   "execution_count": 5,
   "metadata": {
    "slideshow": {
     "slide_type": "slide"
    }
   },
   "outputs": [
    {
     "name": "stdout",
     "output_type": "stream",
     "text": [
      "Printing line number one\n",
      "Printing line number two\n",
      "Printing line number three\n"
     ]
    }
   ],
   "source": [
    "print(\"Printing line number one\");print(\"Printing line number two\");print(\"Printing line number three\")"
   ]
  },
  {
   "cell_type": "markdown",
   "metadata": {
    "slideshow": {
     "slide_type": "slide"
    }
   },
   "source": [
    "# Writing a Standalone Python Program\n",
    "- While the Jupyter notebook environment is a great tool for developing code, sometimes the ultimate goal is to eventually run it as a standalone python program. \n",
    "- To do this, we need to make a file to store our code. For python, the convention is to end the filename in `.py`. \n",
    "- For example, we could make a python file called `hello.py` \n",
    "- We can either copy and past code from the notebook, or we can download as .py file by going to \"file\" $\\rightarrow$ download .py\n",
    "- Once we have the .py file, we can execute it using the python interpreter.\n",
    "    - Note that those of you on Chromebooks need to upload your  .py file to an environment that has the python interpreter installed.\n",
    "    - In this class, we will be using Repl.it"
   ]
  },
  {
   "cell_type": "markdown",
   "metadata": {
    "slideshow": {
     "slide_type": "slide"
    }
   },
   "source": [
    "# Executing Python\n",
    "- For this class, we will use https://repl.it/ to run standalone python files. \n",
    "    - Of course, if you would like to do this on your personal computer, see me for help setting that up!\n",
    "- To do this, go to repl.it, and click \"+ new repl\"\n",
    "- Select Python and click \"Create Repl\"\n",
    "![.](../Images/lecture_0/repl.png)"
   ]
  },
  {
   "cell_type": "markdown",
   "metadata": {
    "slideshow": {
     "slide_type": "slide"
    }
   },
   "source": [
    "# Executing Python\n",
    "- Note that python is an \"interpreted\" language meaning we do not need to compile it-- we just pass the human readable text to the python interpreter and it handles everything else!\n",
    "    - In particular, the computer doesn't *understand* python syntax the way we do-- it needs something to convert the human readable text into human unreadable machine code that can then be executed by the Operating System.\n",
    "    - We use High level languages like python because writing machine code at scale is insanely difficult, \n",
    "    - We will talk more about *abstraction* later, but it is a fundamental idea in Computer Science\n",
    "- We can play around with the  interactive interpreter using repl or by executing commands in notebook cells. \n",
    "- Try it out for yourself below! (note if the next slide doesn't load the interactive program, click this link: https://repl.it/@KaiBernardini/helloworld\n",
    "- To save files to this site, you need to make a free account. Click sign in with Google and use your **School email**. "
   ]
  },
  {
   "cell_type": "code",
   "execution_count": 43,
   "metadata": {
    "slideshow": {
     "slide_type": "slide"
    }
   },
   "outputs": [
    {
     "data": {
      "text/html": [
       "<iframe height=\"400px\" width=\"100%\" src=\"https://repl.it/@KaiBernardini/helloworld?lite=true\" scrolling=\"no\" frameborder=\"no\" allowtransparency=\"true\" allowfullscreen=\"true\" sandbox=\"allow-forms allow-pointer-lock allow-popups allow-same-origin allow-scripts allow-modals\"></iframe>\n"
      ],
      "text/plain": [
       "<IPython.core.display.HTML object>"
      ]
     },
     "metadata": {},
     "output_type": "display_data"
    }
   ],
   "source": [
    "%%html\n",
    "<iframe height=\"400px\" width=\"100%\" src=\"https://repl.it/@KaiBernardini/helloworld?lite=true\" scrolling=\"no\" frameborder=\"no\" allowtransparency=\"true\" allowfullscreen=\"true\" sandbox=\"allow-forms allow-pointer-lock allow-popups allow-same-origin allow-scripts allow-modals\"></iframe>"
   ]
  },
  {
   "cell_type": "code",
   "execution_count": 14,
   "metadata": {
    "slideshow": {
     "slide_type": "slide"
    }
   },
   "outputs": [
    {
     "data": {
      "text/html": [
       "<iframe height=\"400px\" width=\"100%\" src=\"https://repl.it/@KaiBernardini/Hellos?lite=true\" scrolling=\"no\" frameborder=\"no\" allowtransparency=\"true\" allowfullscreen=\"true\" sandbox=\"allow-forms allow-pointer-lock allow-popups allow-same-origin allow-scripts allow-modals\"></iframe>\n"
      ],
      "text/plain": [
       "<IPython.core.display.HTML object>"
      ]
     },
     "metadata": {},
     "output_type": "display_data"
    }
   ],
   "source": [
    "%%html\n",
    "<iframe height=\"400px\" width=\"100%\" src=\"https://repl.it/@KaiBernardini/Hellos?lite=true\" scrolling=\"no\" frameborder=\"no\" allowtransparency=\"true\" allowfullscreen=\"true\" sandbox=\"allow-forms allow-pointer-lock allow-popups allow-same-origin allow-scripts allow-modals\"></iframe>"
   ]
  },
  {
   "cell_type": "markdown",
   "metadata": {
    "slideshow": {
     "slide_type": "slide"
    }
   },
   "source": [
    "# Executing Python\n",
    "- Multi line print statements https://repl.it/@KaiBernardini/Hellos\n",
    "- You can also interact directly with the python interactive shell. "
   ]
  },
  {
   "cell_type": "markdown",
   "metadata": {
    "slideshow": {
     "slide_type": "slide"
    }
   },
   "source": [
    "# Integers \n",
    "- The set of integers, denoted mathematically as $\\mathbb{Z}$, is the collection of all positive and negative whole numbers. \n",
    "- In particular, $$\\mathbb{Z} := \\{...,-3,-2,-1,0,1,2,3,...\\}$$\n",
    "    - Note: this notation is imprecise, but the important thing is we have an intuitive understanding of what an integer is.\n",
    "- In python, integers are implemented in the integer class (`int`). Unlike the $\\mathbb{Z}$ or $\\mathbb{R}$ which has no maximum, computers have finite memory and as a result are bounded. Later in the course we will talk about precision, overflow and underflow. \n",
    "- As usual, we can add, subtract, multiply, divide and exponentiate integers as we would on paper\n",
    "    - Example: We know that $2+2=4$ but we can also have python give us the answer by running $2+2$"
   ]
  },
  {
   "cell_type": "markdown",
   "metadata": {
    "slideshow": {
     "slide_type": "slide"
    }
   },
   "source": [
    "# Real Numbers \n",
    "- The set of real numbers, denoted mathematically as $\\mathbb{R}$, is a bit tricky to define rigorously, but can be thought of as the collection of all decimal sequences.\n",
    "- This includes the integers, the rationals, and **irrational numbers**. \n",
    "- Of course, computers are finite. We can't possibly represent infinite decimals with full precision.\n",
    "    - More on this later!"
   ]
  },
  {
   "cell_type": "markdown",
   "metadata": {
    "slideshow": {
     "slide_type": "slide"
    }
   },
   "source": [
    "# Operators on $\\mathbb{Z}$ and  $\\mathbb{R}$ \n",
    "- Addition $+$\n",
    "    - Example: `2+2 = 4`\n",
    "- Subtraction $-$\n",
    "    - Example: `3-1=2`\n",
    "- Multiplication $*$\n",
    "    - `3*3=9`\n",
    "- Division $/$\n",
    "    - Example: `7/2=3.5}`\n",
    "- Integer Division $//$ (division but you drop the remainder) \n",
    "    - Note that integer division always rounds to closest non-zero value\n",
    "    -i.e. `1//-10 = -1`\n",
    "    - Example: `7//2=3`\n",
    "- Exponentiation $**$\n",
    "    - Example 1: `3**2 = 9` is computing $3^2 = 9$\n",
    "    - Example 2: `4**.5 = 2` is computing $4^{\\frac{1}{2}} = \\sqrt{4} = 2$\n",
    "- ##  Recall that you can double click on this cell to see how these expressions are created using MathJax"
   ]
  },
  {
   "cell_type": "markdown",
   "metadata": {
    "slideshow": {
     "slide_type": "slide"
    }
   },
   "source": [
    "# Functions\n",
    "- In Python, a function is a a block of code that takes an input (potentially empty) and returns an output (also potentially empty)\n",
    "- Function blocks begin with the keyword `def` followed by the function name and parentheses  `( ):` followed by a colon.\n",
    "- Any input parameters or arguments should be placed within these parentheses. You can also define parameters inside these parentheses.\n",
    "- The first statement of a function can be an optional statement - the documentation string of the function or docstring.\n",
    "- The code block within every function starts with a colon (:) and is indented.\n",
    "- The statement return [expression] exits a function, optionally passing back an expression to the caller. A return statement with no arguments is the same as return None.\n",
    "- Source: https://www.tutorialspoint.com/python/python_functions.htm\n",
    "- Notice that this is different from what a mathematical function is! \n",
    "- That said, we can use python functions to build mathematical functions!"
   ]
  },
  {
   "cell_type": "markdown",
   "metadata": {
    "slideshow": {
     "slide_type": "slide"
    }
   },
   "source": [
    "# Mathematical Functions \n",
    "- A function is a mathematical relation between a set of inputs and a set of outputs were each input is associated to exactly 1 output\n",
    "- Example: $f:\\mathbb{R} \\rightarrow \\mathbb{R}$, $$f(x)=x^2 +1$$\n",
    "- Non Example:    , $$y= \\pm \\sqrt{x}$$\n",
    "    - You might have heard the expression \"vertical line test\" in the past. We explore this graphically in the coming days "
   ]
  },
  {
   "cell_type": "code",
   "execution_count": 39,
   "metadata": {
    "slideshow": {
     "slide_type": "slide"
    }
   },
   "outputs": [],
   "source": [
    "def f(x):\n",
    "    \"\"\"\n",
    "    Arguments: x -- an int or a float\n",
    "    Computes $x^2 + 1$ \n",
    "    \"\"\"\n",
    "    return x **2 + 1\n"
   ]
  },
  {
   "cell_type": "code",
   "execution_count": null,
   "metadata": {
    "slideshow": {
     "slide_type": "slide"
    }
   },
   "outputs": [],
   "source": [
    "print(\"f(3) = \", f(3))\n",
    "print(\"f(4) = \", f(4))\n",
    "print(\"f(5) = \", f(5))\n",
    "print(\"f(1/2) = \", f(1/3))"
   ]
  },
  {
   "cell_type": "code",
   "execution_count": 11,
   "metadata": {
    "slideshow": {
     "slide_type": "slide"
    }
   },
   "outputs": [
    {
     "name": "stdout",
     "output_type": "stream",
     "text": [
      "f(4) = 17\n"
     ]
    }
   ],
   "source": [
    "# More on this later!\n",
    "def print_f(x):\n",
    "    f_x = f(x)\n",
    "    print(f\"f({x}) = {f_x}\")\n",
    "    \n",
    "print_f(4)"
   ]
  },
  {
   "cell_type": "code",
   "execution_count": null,
   "metadata": {
    "slideshow": {
     "slide_type": "slide"
    }
   },
   "outputs": [],
   "source": []
  }
 ],
 "metadata": {
  "celltoolbar": "Slideshow",
  "kernelspec": {
   "display_name": "Python 3",
   "language": "python",
   "name": "python3"
  },
  "language_info": {
   "codemirror_mode": {
    "name": "ipython",
    "version": 3
   },
   "file_extension": ".py",
   "mimetype": "text/x-python",
   "name": "python",
   "nbconvert_exporter": "python",
   "pygments_lexer": "ipython3",
   "version": "3.6.9"
  }
 },
 "nbformat": 4,
 "nbformat_minor": 2
}
