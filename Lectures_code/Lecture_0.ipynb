{
 "cells": [
  {
   "cell_type": "code",
   "execution_count": 1,
   "metadata": {
    "slideshow": {
     "slide_type": "skip"
    }
   },
   "outputs": [],
   "source": [
    "from IPython.display import Image\n",
    "from IPython.core.display import HTML \n",
    "from IPython.display import display_html\n",
    "from IPython.display import display\n",
    "from IPython.display import Math\n",
    "from IPython.display import Latex\n",
    "from IPython.display import HTML"
   ]
  },
  {
   "cell_type": "markdown",
   "metadata": {
    "slideshow": {
     "slide_type": "slide"
    }
   },
   "source": [
    "![](../assets/school_logo.png)\n",
    "# Lecture 0: Welcome to CS-101!\n",
    "\n",
    "\n"
   ]
  },
  {
   "cell_type": "markdown",
   "metadata": {
    "slideshow": {
     "slide_type": "slide"
    }
   },
   "source": [
    "# Why Computer Science?\n",
    "- Financial motivation: There are many lucrative careers in computer science...\n",
    "    - Compensation and beneffits are extremely competitive.\n",
    "    - The payscale range of income for a Software Engineer is between $\\$51,521$ and  $\\$118,417$\n",
    "    - The payscale range of income for a Machine Learning Engineer is between $\\$93,873$ and $ \\$129,514$\n",
    "    - \"Not only does computer science provide every student foundational knowledge, it also leads to the highest-paying, fastest-growing jobs in the U.S. economy. There are currently over 500,000 open computing jobs, in every sector, from manufacturing to banking, from agriculture to health care, but only 50,000 computer science graduates a year. \" (Computer Science Education Coalition)\n",
    "    - Note that for specialized computer scientists such as cloud engineers, the expected income is in many cases significantly higher. EG Cloud Engineers starting salary at Amazon is estimated to be over \\$100,000k a year\n",
    "    - Computer Science enjoys a great deal of freedom in the work place. \n",
    "- Intelectual Motiviation: There is no shortage of interesting and complex problems to solve...  \n",
    "    - The act of developing code from the ground up helps hone esential problem solving skills. \n",
    "    - A degree in computer science grants you the freedom to work in almost any field.\n",
    "    - Seemingly endless oppurtunities for creative work"
   ]
  },
  {
   "cell_type": "markdown",
   "metadata": {
    "slideshow": {
     "slide_type": "slide"
    }
   },
   "source": [
    "# What is Python and who uses it?\n",
    "- Python is a powerful open source general purpose programing language.\n",
    "- Open source means all of the source code is public.\n",
    "- Python has a massive community built around sharing code and ideas. \n",
    "- It uses simple syntax making it an excellent choice for a first programing language.\n",
    "- Python is leveraged by many companies  to build complex web applications including. \n",
    "    - Disney, Dreamworks, Lucasfilm and many more use python to coordinate massive computer clusters to render blockbuster movies. \n",
    "- Is regarded by many as the swiss army knife of machine learning (statistics/data science) \n",
    "- More examples at https://www.python.org/about/success/\n"
   ]
  },
  {
   "cell_type": "markdown",
   "metadata": {
    "slideshow": {
     "slide_type": "slide"
    }
   },
   "source": [
    "# Philosophy of this Course\n",
    "- Abstract Approach\n",
    "    - Used in mathematics and computer science alike.\n",
    "    - Once you learn python, learning other languages becomes significantly easier.\n",
    "    - Ruby, Scala, perl...etc are all similar to python and make use of the same concepts!\n",
    "- Creativity is Encouraged! \n",
    "    - Many of the problems you encounter in this class have many possible paths to solutions.\n",
    "    - \"If it is worth proving once, it is worth proving it another way\" (Glenn Stephens) "
   ]
  },
  {
   "cell_type": "markdown",
   "metadata": {
    "slideshow": {
     "slide_type": "slide"
    }
   },
   "source": [
    "# What you will learn\n",
    "- Python.\n",
    "    - Fun fact, the name python has nothing to do with the reptile of the same name. Python is an homage to the British comedy troupe Monty Python https://en.wikipedia.org/wiki/Monty_Python. \n",
    "-  Basic $\\LaTeX ~~$ typesetting inside Markdown\n",
    "    - The tool used to typeset mathematical notation. \n",
    "    - EG   $~f(x) = ax^2 + bx + c $\n",
    "- Jupyter Notebook (Either using Colab or your own dev env!)\n",
    "    - The tool used to create this slide show!\n",
    "    - Code cells, and Markdown cells. This is a markdown cell!"
   ]
  },
  {
   "cell_type": "markdown",
   "metadata": {
    "slideshow": {
     "slide_type": "slide"
    }
   },
   "source": [
    "# Course Difficulty\n",
    "- Coding is difficult, and computer science requires think about problems in a way that might not come naturally so some of you, and that is OK! \n",
    "- You will get stuck on problems, and you will eventually become \"comfortable being uncomfortable\"\n",
    " ![.](http://www.quickmeme.com/img/fd/fd3d970c53aa6ae1dfdda0c2aa7c344c883bf5455bf924fdb6e3d8b1f4983385.jpg)\n"
   ]
  },
  {
   "cell_type": "markdown",
   "metadata": {
    "slideshow": {
     "slide_type": "slide"
    }
   },
   "source": [
    "# Diving in!\n",
    "- Unless otherwise specified, all of the coding you do in this course will be done using google Colab. \n",
    "    - You are of course allowed (and even encouraged!) to build out your own development environment. However, all submissions for homework need to be submitted using Google Drive and Google Colab. \n",
    "- Sign into your School Google Account and go to https://colab.research.google.com/\n",
    "- Go to \"File\" $\\rightarrow$ \"New Python 3 Notebook\"\n",
    "- You should see something that looks like ![.](../Images/lecture_0/Google_colab_home.png)"
   ]
  },
  {
   "cell_type": "markdown",
   "metadata": {
    "slideshow": {
     "slide_type": "slide"
    }
   },
   "source": [
    "# Writing Your First Program!\n",
    "- Traditionally speaking, getting a computer to  echo \"Hello world!\"  is the first program that everyone learns. \n",
    "- For why this is the case, see https://en.wikipedia.org/wiki/%22Hello,_World!%22_program  \n",
    "- In order to do this, we will make use of the `print()` function\n",
    "- This function will print anything that is wrapped in quotes to the terminal. \n",
    "- For example, `print(\"Welcome to CS 101!\")` Will print the message \"Welcome to CS 101!\"\n",
    "- Try it out yourself now!\n",
    "    - Write a function that prints \"Hello World\" with the code `print(\"Hello, world!\")`\n",
    "    - To run the code, click into the cell and hit \"shift+ enter\"\n",
    "    "
   ]
  },
  {
   "cell_type": "code",
   "execution_count": 9,
   "metadata": {
    "slideshow": {
     "slide_type": "slide"
    }
   },
   "outputs": [
    {
     "name": "stdout",
     "output_type": "stream",
     "text": [
      "Hello, world!\n"
     ]
    }
   ],
   "source": [
    "print(\"Hello, world!\")"
   ]
  },
  {
   "cell_type": "markdown",
   "metadata": {
    "slideshow": {
     "slide_type": "slide"
    }
   },
   "source": [
    "# Writing your First Program!\n",
    "- If all went well, your screen should look like this: ![.](../Images/lecture_0/hello_world.png)"
   ]
  },
  {
   "cell_type": "markdown",
   "metadata": {
    "slideshow": {
     "slide_type": "slide"
    }
   },
   "source": [
    "# What did we just do?\n",
    "- We just told a computer to display the phrase \"Hello, world!\" to what is called Standard Output.\n",
    "- The $\\texttt{print}$ function is used to send inputs to standard output (IE, what you will see on your terminal screen)\n",
    "- The phrase $\\texttt{Hello, world!}$ is wrapped in double quotes \" \" to tell python that this sequence is what is called a string. You can also use single quotes '' and \"\"\"\"\"\"\n",
    "- For our purposes, a string is the data type used to represent text of any kind. "
   ]
  },
  {
   "cell_type": "markdown",
   "metadata": {
    "slideshow": {
     "slide_type": "slide"
    }
   },
   "source": [
    "# Writing a Standalone Python Program\n",
    "- While the Jupyter notebook environment is a great tool for developing code, sometimes the ultimate goal is to eventually run it as a standalone python program. \n",
    "- To do this, we need to make a file to store out code that ends in `.py`. \n",
    "- For example, we could make a python file called `hello.py` \n",
    "- We can either copy and past code from the notebook, or we can download as .py file by going to \"file\" $\\rightarrow$ download .py\n",
    "- Once we have the .py file, we can execute it!"
   ]
  },
  {
   "cell_type": "markdown",
   "metadata": {
    "slideshow": {
     "slide_type": "slide"
    }
   },
   "source": [
    "# Executing Python\n",
    "- For this class, we will use https://repl.it/ to run standalone python files. \n",
    "    - Of course, if you would like to do this on your personal computer, see me for help setting that up!\n",
    "- To do this, go to repl.it, and click \"+ new repl\"\n",
    "- Select Python and click \"Create Repl\"\n",
    "![.](../Images/lecture_0/repl.png)"
   ]
  },
  {
   "cell_type": "markdown",
   "metadata": {
    "slideshow": {
     "slide_type": "slide"
    }
   },
   "source": [
    "# Executing Python\n",
    "- Note that python is an \"interpreted\" language meaning we do not need to compile it-- we just pass the human readable text to the python interpreter and it handles everything else!\n",
    "- We can play around with the  interactive interpreter using repl or by executing commands in notebook cells. \n",
    "- Try it out for yourself below! (note if the next slide doesn't load the interactive program, click this link: https://repl.it/@KaiBernardini/helloworld\n",
    "- To save files to this site, you need to make a free account. Click sign in with Google and use your School email. "
   ]
  },
  {
   "cell_type": "code",
   "execution_count": 16,
   "metadata": {
    "slideshow": {
     "slide_type": "slide"
    }
   },
   "outputs": [
    {
     "data": {
      "text/html": [
       "<iframe height=\"400px\" width=\"100%\" src=\"https://repl.it/@KaiBernardini/helloworld?lite=true\" scrolling=\"no\" frameborder=\"no\" allowtransparency=\"true\" allowfullscreen=\"true\" sandbox=\"allow-forms allow-pointer-lock allow-popups allow-same-origin allow-scripts allow-modals\"></iframe>\n"
      ],
      "text/plain": [
       "<IPython.core.display.HTML object>"
      ]
     },
     "metadata": {},
     "output_type": "display_data"
    }
   ],
   "source": [
    "%%html\n",
    "<iframe height=\"400px\" width=\"100%\" src=\"https://repl.it/@KaiBernardini/helloworld?lite=true\" scrolling=\"no\" frameborder=\"no\" allowtransparency=\"true\" allowfullscreen=\"true\" sandbox=\"allow-forms allow-pointer-lock allow-popups allow-same-origin allow-scripts allow-modals\"></iframe>"
   ]
  },
  {
   "cell_type": "code",
   "execution_count": 17,
   "metadata": {
    "slideshow": {
     "slide_type": "slide"
    }
   },
   "outputs": [
    {
     "data": {
      "text/html": [
       "<iframe height=\"400px\" width=\"100%\" src=\"https://repl.it/@KaiBernardini/Hellos?lite=true\" scrolling=\"no\" frameborder=\"no\" allowtransparency=\"true\" allowfullscreen=\"true\" sandbox=\"allow-forms allow-pointer-lock allow-popups allow-same-origin allow-scripts allow-modals\"></iframe>\n"
      ],
      "text/plain": [
       "<IPython.core.display.HTML object>"
      ]
     },
     "metadata": {},
     "output_type": "display_data"
    }
   ],
   "source": [
    "%%html\n",
    "<iframe height=\"400px\" width=\"100%\" src=\"https://repl.it/@KaiBernardini/Hellos?lite=true\" scrolling=\"no\" frameborder=\"no\" allowtransparency=\"true\" allowfullscreen=\"true\" sandbox=\"allow-forms allow-pointer-lock allow-popups allow-same-origin allow-scripts allow-modals\"></iframe>"
   ]
  },
  {
   "cell_type": "markdown",
   "metadata": {
    "slideshow": {
     "slide_type": "slide"
    }
   },
   "source": [
    "# Executing Python\n",
    "- Multi line print statements https://repl.it/@KaiBernardini/Hellos\n",
    "- You can also interact directly with the python interactive shell. "
   ]
  },
  {
   "cell_type": "markdown",
   "metadata": {
    "slideshow": {
     "slide_type": "slide"
    }
   },
   "source": [
    "# Syntax \n",
    "- Python is "
   ]
  }
 ],
 "metadata": {
  "celltoolbar": "Slideshow",
  "kernelspec": {
   "display_name": "Python 3",
   "language": "python",
   "name": "python3"
  },
  "language_info": {
   "codemirror_mode": {
    "name": "ipython",
    "version": 3
   },
   "file_extension": ".py",
   "mimetype": "text/x-python",
   "name": "python",
   "nbconvert_exporter": "python",
   "pygments_lexer": "ipython3",
   "version": "3.6.9"
  }
 },
 "nbformat": 4,
 "nbformat_minor": 2
}
